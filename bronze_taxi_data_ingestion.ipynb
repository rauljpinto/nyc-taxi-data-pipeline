{
 "cells": [
  {
   "cell_type": "code",
   "execution_count": 0,
   "metadata": {
    "application/vnd.databricks.v1+cell": {
     "cellMetadata": {
      "byteLimit": 2048000,
      "rowLimit": 10000
     },
     "inputWidgets": {},
     "nuid": "c639598f-d04b-49d5-9af0-587bc6eb3171",
     "showTitle": true,
     "tableResultSettingsMap": {},
     "title": "Imports"
    }
   },
   "outputs": [],
   "source": [
    "from pyspark.sql.functions import col, lit, regexp_extract"
   ]
  },
  {
   "cell_type": "code",
   "execution_count": 0,
   "metadata": {
    "application/vnd.databricks.v1+cell": {
     "cellMetadata": {
      "byteLimit": 2048000,
      "rowLimit": 10000
     },
     "inputWidgets": {},
     "nuid": "7e5dfd04-2c04-4e4d-b3b0-313463bc15a0",
     "showTitle": true,
     "tableResultSettingsMap": {},
     "title": "Ingestão Bronze"
    }
   },
   "outputs": [],
   "source": [
    "\n",
    "# Files list\n",
    "csv_files = [\n",
    "    \"s3a://nyc-taxi-data-raul/bronze/yellow_tripdata_2015-01.csv\",\n",
    "    \"s3a://nyc-taxi-data-raul/bronze/yellow_tripdata_2016-01.csv\", \n",
    "    \"s3a://nyc-taxi-data-raul/bronze/yellow_tripdata_2016-02.csv\",\n",
    "    \"s3a://nyc-taxi-data-raul/bronze/yellow_tripdata_2016-03.csv\"\n",
    "]\n",
    "\n",
    "# Read files into a Spark DataFrame\n",
    "df_list = []\n",
    "for file_path in csv_files:\n",
    "    df_temp = spark.read.csv(file_path, header=True, inferSchema=False)\n",
    "\n",
    "    # Add source_file and file_version columns\n",
    "    df_temp = df_temp.withColumn(\"source_file\", lit(file_path))\n",
    "    df_temp = df_temp.withColumn(\"file_version\", \n",
    "                                regexp_extract(lit(file_path), \"yellow_tripdata_(.+)\\\\.csv\", 1))\n",
    "    df_list.append(df_temp)\n",
    "\n",
    "# Joining all DataFrames\n",
    "df_bronze = df_list[0]\n",
    "for df in df_list[1:]:\n",
    "    df_bronze = df_bronze.unionByName(df)\n",
    "\n",
    "# Writing table\n",
    "df_bronze.write \\\n",
    "    .format(\"delta\") \\\n",
    "    .mode(\"overwrite\") \\\n",
    "    .option(\"mergeSchema\", \"true\") \\\n",
    "    .saveAsTable(\"nyc_taxi_analysis.bronze.nyc_taxi_data_extract\")\n"
   ]
  }
 ],
 "metadata": {
  "application/vnd.databricks.v1+notebook": {
   "computePreferences": null,
   "dashboards": [],
   "environmentMetadata": {
    "base_environment": "",
    "environment_version": "3"
   },
   "inputWidgetPreferences": null,
   "language": "python",
   "notebookMetadata": {
    "mostRecentlyExecutedCommandWithImplicitDF": {
     "commandId": 8983153871233629,
     "dataframes": [
      "_sqldf"
     ]
    },
    "pythonIndentUnit": 4
   },
   "notebookName": "bronze_taxi_data_ingestion",
   "widgets": {}
  },
  "language_info": {
   "name": "python"
  }
 },
 "nbformat": 4,
 "nbformat_minor": 0
}